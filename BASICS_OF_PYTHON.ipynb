{
  "nbformat": 4,
  "nbformat_minor": 0,
  "metadata": {
    "colab": {
      "provenance": []
    },
    "kernelspec": {
      "name": "python3",
      "display_name": "Python 3"
    },
    "language_info": {
      "name": "python"
    }
  },
  "cells": [
    {
      "cell_type": "markdown",
      "source": [
        "# PYTHON\n",
        "Q1. WHAT IS PYTHON AND WHY IS IT POPULAR?\n",
        "   -  PYTHON IS A GENERAL PURPOSE INTERPRETER,INTERACTIVE,OBJECT-ORIENTED,HIGH LEVEL PROGRAMMING LANGUAGE.IT WAS CREATED BY GUIDO VAN ROSSUM DURING 1985-1990.LANGUAGE IS NOT NAMED AFTER SNAKE BUT AFTER A COMEDY SHOW FLYING CIRCUS WHICH MONTY PYTHON WAS FAN OF.\n",
        "   PYTHON IS POPULAR BECAUSE OF ITS SIMPLICTY,VERSATILITY,RICH ECOSYSTEM,COMMUNITY SUPPORT AND PIVOT ROLE IN EMERGING TECHNOLOGIES.\n",
        "\n",
        "Q2. WHAT IS AN INTERPRETER IN PYTHON?\n",
        "  -  Interpreters are the computer program that will convert the source code or an high level language into intermediate code (machine level language). It is also called translator in programming terminology. Interpreters executes each line of statements slowly. This process is called Interpretation.\n",
        "\n",
        "Q3. What are pre-defined keywords in Python?\n",
        "- The list of keywords is :\n",
        "['False', 'None', 'True', 'and', 'as', 'assert', 'async', 'await', 'break', 'class', 'continue', 'def', 'del', 'elif', 'else', 'except', 'finally', 'for'.\n",
        "\n",
        "Q4. Can keywords be used as variable names?\n",
        "   -  The keyword cannot be used as an identifier, function, or variable name. All the keywords in Python are written in lowercase except True and False.\n",
        "\n",
        "Q5.  What is mutability in Python?\n",
        "   -  MUTABILITY OBJECTS CONTAINERS WHOSE STATE OR VALUE CAN BE CHANGED AFTER THEY ARE CREATED ARE CALLED AS MUTABLE OBJECTS OR CONTAINERS.\n",
        "\n",
        "Q6.  Why are lists mutable, but tuples are immutablE?\n",
        "   -  The tuple itself isn't mutable (i.e. it doesn't have any methods that for changing its contents). Likewise, the string is immutable because strings don't have any mutating methods. The list object does have mutating methods, so it can be changed.\n",
        "\n",
        "Q7.  What is the difference between “==” and “is” operators in Python?\n",
        "  - In Python, == and is operators are both used for comparison but they serve different purposes. The == operator checks for equality of values which means it evaluates whether the values of two objects are the same. On the other hand, is operator checks for identity, meaning it determines whether two variables point to the same object in memory.\n",
        "\n",
        "Q8. What are logical operators in Python?\n",
        "  - IT IS USED TO EVALUATE TRUE AND IF THE EXPRESSIONS OR VALUE OF BOTH THE OPERATORS IS TRUE,FALSE.\n",
        "  OR THE EXPRESSION IS FALSE ONLY IF BOTH THE STATEMENTS AROUND THE OPERATOR ARE FALSE,OTHERWISE IT IS TRUE.NOT THIS INVERTS THE BOOLEAN VALUE OF ANY EXPRESSION.IT CONVERTS TRUE TO FALSE AND FALSE TO TRUE.\n",
        "\n",
        "Q9. What is type casting in Python?\n",
        " - Type Casting is the method to convert the Python variable datatype into a certain data type in order to perform the required operation by users.\n",
        "\n",
        "Q10.  What is the difference between implicit and explicit type casting?\n",
        " - Python Implicit Type Conversion-In this, method, Python converts the datatype into another datatype automatically. Users don’t have to involve in this process.\n",
        " - Python Explicit Type Conversion-In this method, Python needs user involvement to convert the variable data type into the required data type.\n",
        "\n",
        "Q11.  What is the purpose of conditional statements in Python?\n",
        "-   Conditional statements in Python are used to execute certain blocks of code based on specific conditions. These statements help control the flow of a program, making it behave differently in different situations.\n",
        "\n",
        "If Conditional Statement in Python\n",
        "If statement is the simplest form of a conditional statement. It executes a block of code if the given condition is true.\n",
        "\n",
        "Q12.  How does the elif statement work?\n",
        "- The elif keyword is pythons way of saying \"if the previous conditions were not true, then try this condition\". In this example a is equal to b, so the first condition is not true, but the elif condition is true, so we print to screen that \"a and b are equal\".\n",
        "\n",
        "Q13.  What is the difference between for and while loops?\n",
        "-  For loop is one of the most widely used loops in Programming and is used to execute a set of statements repetitively. We can use for loop to iterate over a sequence of elements, perform a set of tasks a fixed number of times. In this article, we will learn about the basics of For loop, its syntax along with its usage in different programming languages.\n",
        "-While loop is a fundamental control flow structure in programming, enabling the execution of a block of code repeatedly as long as a specified condition remains true. While loop works by repeatedly executing a block of code as long as a specified condition remains true. It evaluates the condition before each iteration, executes the code block if the condition is true, and terminates when the condition becomes false. This mechanism allows for flexible iteration based on changing conditions within a program.\n",
        "\n",
        "Q14. Describe a scenario where a while loop is more suitable than a for loop.\n",
        "- Both for loops and while loops are control flow structures in programming that allow you to repeatedly execute a block of code. However, they differ in their syntax and use cases. It is important for a beginner to know the key differences between both of them.\n",
        "\n",
        "\n",
        "\n",
        "\n",
        "\n",
        "\n",
        "\n",
        "\n",
        "\n",
        "\n",
        "\n",
        "\n",
        "\n",
        "\n",
        "\n",
        "\n",
        "\n",
        "\n",
        "\n",
        "\n",
        "\n"
      ],
      "metadata": {
        "id": "6J_CtgmANLzD"
      }
    },
    {
      "cell_type": "markdown",
      "source": [
        "### PRACTICAL QUESTIONS\n",
        "\n",
        "Q1.  Write a Python program to print \"Hello, World!\n"
      ],
      "metadata": {
        "id": "9--OAjwbS0h_"
      }
    },
    {
      "cell_type": "code",
      "source": [
        "print(\"Hello World\")"
      ],
      "metadata": {
        "colab": {
          "base_uri": "https://localhost:8080/"
        },
        "id": "2iJZJZF6TalA",
        "outputId": "7b467b80-bb3e-4c96-ae08-cf892d49a2e6"
      },
      "execution_count": null,
      "outputs": [
        {
          "output_type": "stream",
          "name": "stdout",
          "text": [
            "Hello World\n"
          ]
        }
      ]
    },
    {
      "cell_type": "markdown",
      "source": [
        "Q2. Write a Python program that displays your name and age.\n",
        "\n"
      ],
      "metadata": {
        "id": "aojQPt8LTqC7"
      }
    },
    {
      "cell_type": "code",
      "source": [
        "print(\"Name-Samarpreet kaur\")\n",
        "print(\"Age-25\")"
      ],
      "metadata": {
        "colab": {
          "base_uri": "https://localhost:8080/"
        },
        "id": "3eH-6Sa9Twfl",
        "outputId": "ee431c2b-45a1-4344-af64-a572d1e23012"
      },
      "execution_count": null,
      "outputs": [
        {
          "output_type": "stream",
          "name": "stdout",
          "text": [
            "Name-Samarpreet kaur\n",
            "Age-25\n"
          ]
        }
      ]
    },
    {
      "cell_type": "markdown",
      "source": [
        "Q3. Write code to print all the pre-defined keywords in Python using the keyword library\n",
        "\n"
      ],
      "metadata": {
        "id": "HZ84gNqYUWkZ"
      }
    },
    {
      "cell_type": "code",
      "source": [
        "help(\"keywords\")"
      ],
      "metadata": {
        "colab": {
          "base_uri": "https://localhost:8080/"
        },
        "id": "84VKNIlpVmmq",
        "outputId": "fa0919ed-5f00-4ae9-dcc6-d7529ec88774"
      },
      "execution_count": null,
      "outputs": [
        {
          "output_type": "stream",
          "name": "stdout",
          "text": [
            "\n",
            "Here is a list of the Python keywords.  Enter any keyword to get more help.\n",
            "\n",
            "False               class               from                or\n",
            "None                continue            global              pass\n",
            "True                def                 if                  raise\n",
            "and                 del                 import              return\n",
            "as                  elif                in                  try\n",
            "assert              else                is                  while\n",
            "async               except              lambda              with\n",
            "await               finally             nonlocal            yield\n",
            "break               for                 not                 \n",
            "\n"
          ]
        }
      ]
    },
    {
      "cell_type": "markdown",
      "source": [
        "Q4.  Write a program that checks if a given word is a Python keyword?\n",
        "\n",
        "\n",
        "\n",
        "\n",
        "\n"
      ],
      "metadata": {
        "id": "dZ7tpAAgVta5"
      }
    },
    {
      "cell_type": "code",
      "source": [
        "if 10 > 0:\n",
        "  print(\"positive\")\n"
      ],
      "metadata": {
        "id": "RZHlQm_ucMNK",
        "colab": {
          "base_uri": "https://localhost:8080/"
        },
        "outputId": "0c40e51c-6098-4c91-f1e0-85030d9c14b9"
      },
      "execution_count": null,
      "outputs": [
        {
          "output_type": "stream",
          "name": "stdout",
          "text": [
            "positive\n"
          ]
        }
      ]
    },
    {
      "cell_type": "markdown",
      "source": [
        "Q5. Create a list and tuple in Python, and demonstrate how attempting to change an element works differently for each?\n",
        "\n",
        "\n",
        "\n"
      ],
      "metadata": {
        "id": "QpFH0yfzcNfO"
      }
    },
    {
      "cell_type": "code",
      "source": [
        "fruits_list = [\"Mango\",\"Cherry\",\"Apple\",\"Papaya\",\"Banana\"]\n",
        "for a in fruits_list:\n",
        "    print(a)\n",
        "    if a==\"Cherry\":\n",
        "        print(\"The fruit is cherry\")\n"
      ],
      "metadata": {
        "colab": {
          "base_uri": "https://localhost:8080/"
        },
        "id": "jGIGEjey5g5H",
        "outputId": "8509958b-b6ee-4109-d24d-795ee46a1d5a"
      },
      "execution_count": null,
      "outputs": [
        {
          "output_type": "stream",
          "name": "stdout",
          "text": [
            "Mango\n",
            "Cherry\n",
            "The fruit is cherry\n",
            "Apple\n",
            "Papaya\n",
            "Banana\n"
          ]
        }
      ]
    },
    {
      "cell_type": "markdown",
      "source": [
        "Q6. Write a function to demonstrate the behavior of mutable and immutable arguments.\n"
      ],
      "metadata": {
        "id": "4C4fLSOR6Xr6"
      }
    },
    {
      "cell_type": "code",
      "source": [
        "list_cont = [1, 2, 3, 4.3, 3+5j, True, \"Ajay\"]\n",
        "list_cont"
      ],
      "metadata": {
        "colab": {
          "base_uri": "https://localhost:8080/"
        },
        "id": "wXb7sXaP6jE8",
        "outputId": "5a206459-d9f5-46a8-e66d-82be91799d58"
      },
      "execution_count": null,
      "outputs": [
        {
          "output_type": "execute_result",
          "data": {
            "text/plain": [
              "[1, 2, 3, 4.3, (3+5j), True, 'Ajay']"
            ]
          },
          "metadata": {},
          "execution_count": 6
        }
      ]
    },
    {
      "cell_type": "code",
      "source": [
        "list_cont[0]\n"
      ],
      "metadata": {
        "colab": {
          "base_uri": "https://localhost:8080/"
        },
        "id": "q0WnjibL93zA",
        "outputId": "51e08b45-ebe9-4330-9d44-185e11bc7e91"
      },
      "execution_count": null,
      "outputs": [
        {
          "output_type": "execute_result",
          "data": {
            "text/plain": [
              "1"
            ]
          },
          "metadata": {},
          "execution_count": 7
        }
      ]
    },
    {
      "cell_type": "code",
      "source": [
        "list_cont[6]"
      ],
      "metadata": {
        "colab": {
          "base_uri": "https://localhost:8080/",
          "height": 36
        },
        "id": "r_zvVGl8-o00",
        "outputId": "43dcd8a8-64f6-41be-bf92-45b90727b261"
      },
      "execution_count": null,
      "outputs": [
        {
          "output_type": "execute_result",
          "data": {
            "text/plain": [
              "'Ajay'"
            ],
            "application/vnd.google.colaboratory.intrinsic+json": {
              "type": "string"
            }
          },
          "metadata": {},
          "execution_count": 8
        }
      ]
    },
    {
      "cell_type": "code",
      "source": [
        "# mutable\n",
        "list_cont[6]=\"Bijay\"\n",
        "list_cont\n"
      ],
      "metadata": {
        "colab": {
          "base_uri": "https://localhost:8080/"
        },
        "id": "r1YuiZe6-2Rl",
        "outputId": "258c76f1-2e48-4731-b35e-21711ebcede7"
      },
      "execution_count": null,
      "outputs": [
        {
          "output_type": "execute_result",
          "data": {
            "text/plain": [
              "[1, 2, 3, 4.3, (3+5j), True, 'Bijay']"
            ]
          },
          "metadata": {},
          "execution_count": 10
        }
      ]
    },
    {
      "cell_type": "code",
      "source": [
        "# immutable\n",
        "b = \"pwskills\"\n",
        "b"
      ],
      "metadata": {
        "colab": {
          "base_uri": "https://localhost:8080/",
          "height": 36
        },
        "id": "WYYmjPSF_SLN",
        "outputId": "1d006be2-4250-41eb-e342-4585ab797cda"
      },
      "execution_count": null,
      "outputs": [
        {
          "output_type": "execute_result",
          "data": {
            "text/plain": [
              "'pwskills'"
            ],
            "application/vnd.google.colaboratory.intrinsic+json": {
              "type": "string"
            }
          },
          "metadata": {},
          "execution_count": 12
        }
      ]
    },
    {
      "cell_type": "code",
      "source": [
        "b[0]=\"i\""
      ],
      "metadata": {
        "colab": {
          "base_uri": "https://localhost:8080/",
          "height": 141
        },
        "id": "idZXRwMo_vz6",
        "outputId": "e60bfddf-39b6-49d9-bcc2-28bdfb297986"
      },
      "execution_count": null,
      "outputs": [
        {
          "output_type": "error",
          "ename": "TypeError",
          "evalue": "'str' object does not support item assignment",
          "traceback": [
            "\u001b[0;31m---------------------------------------------------------------------------\u001b[0m",
            "\u001b[0;31mTypeError\u001b[0m                                 Traceback (most recent call last)",
            "\u001b[0;32m<ipython-input-13-ee68402ce9b5>\u001b[0m in \u001b[0;36m<cell line: 1>\u001b[0;34m()\u001b[0m\n\u001b[0;32m----> 1\u001b[0;31m \u001b[0mb\u001b[0m\u001b[0;34m[\u001b[0m\u001b[0;36m0\u001b[0m\u001b[0;34m]\u001b[0m\u001b[0;34m=\u001b[0m\u001b[0;34m\"i\"\u001b[0m\u001b[0;34m\u001b[0m\u001b[0;34m\u001b[0m\u001b[0m\n\u001b[0m",
            "\u001b[0;31mTypeError\u001b[0m: 'str' object does not support item assignment"
          ]
        }
      ]
    },
    {
      "cell_type": "markdown",
      "source": [
        "Q7. Write a program to demonstrate the use of logical operators.\n",
        "\n"
      ],
      "metadata": {
        "id": "sO_n0R2r6kPH"
      }
    },
    {
      "cell_type": "code",
      "source": [
        "#Logical operator\n",
        "#and\n",
        "True and True"
      ],
      "metadata": {
        "colab": {
          "base_uri": "https://localhost:8080/"
        },
        "id": "SkXLkuYDAae4",
        "outputId": "7acd3725-8133-4283-cfbf-801b9c7dabe2"
      },
      "execution_count": null,
      "outputs": [
        {
          "output_type": "execute_result",
          "data": {
            "text/plain": [
              "True"
            ]
          },
          "metadata": {},
          "execution_count": 15
        }
      ]
    },
    {
      "cell_type": "code",
      "source": [
        "True and False"
      ],
      "metadata": {
        "colab": {
          "base_uri": "https://localhost:8080/"
        },
        "id": "fUZj1Im0Ah0g",
        "outputId": "503dd038-4200-43d8-849c-e8ec45f384ef"
      },
      "execution_count": null,
      "outputs": [
        {
          "output_type": "execute_result",
          "data": {
            "text/plain": [
              "False"
            ]
          },
          "metadata": {},
          "execution_count": 16
        }
      ]
    },
    {
      "cell_type": "markdown",
      "source": [
        "Q8. Write a Python program to convert user input from string to integer, float, and boolean types.\n"
      ],
      "metadata": {
        "id": "1V6nUIxC6-jI"
      }
    },
    {
      "cell_type": "code",
      "source": [
        "a = 6\n",
        "type(a)\n",
        "\n"
      ],
      "metadata": {
        "colab": {
          "base_uri": "https://localhost:8080/"
        },
        "id": "D17ZQKTQ7cq2",
        "outputId": "9b191df7-52ce-4a2b-edef-2a3b821a7341"
      },
      "execution_count": null,
      "outputs": [
        {
          "output_type": "execute_result",
          "data": {
            "text/plain": [
              "int"
            ]
          },
          "metadata": {},
          "execution_count": 19
        }
      ]
    },
    {
      "cell_type": "code",
      "source": [
        "#string to integer\n",
        "a = \"2\"\n",
        "print(type(a))\n",
        "print(type(int(a)))"
      ],
      "metadata": {
        "colab": {
          "base_uri": "https://localhost:8080/"
        },
        "id": "xYV7F0v4INKN",
        "outputId": "972285ce-6103-4006-d6d6-6bf616feb025"
      },
      "execution_count": null,
      "outputs": [
        {
          "output_type": "stream",
          "name": "stdout",
          "text": [
            "<class 'str'>\n",
            "<class 'int'>\n"
          ]
        }
      ]
    },
    {
      "cell_type": "code",
      "source": [
        "#float to integer\n",
        "a = 3.4\n",
        "type(a)"
      ],
      "metadata": {
        "colab": {
          "base_uri": "https://localhost:8080/"
        },
        "id": "E2VSOpL4ITTs",
        "outputId": "5fc324b9-c9c2-413d-b310-f966734b0c66"
      },
      "execution_count": null,
      "outputs": [
        {
          "output_type": "execute_result",
          "data": {
            "text/plain": [
              "float"
            ]
          },
          "metadata": {},
          "execution_count": 21
        }
      ]
    },
    {
      "cell_type": "code",
      "source": [
        "#integer to float\n",
        "a = 2\n",
        "type(a)"
      ],
      "metadata": {
        "colab": {
          "base_uri": "https://localhost:8080/"
        },
        "id": "8Nd87TDOIbT7",
        "outputId": "6c66912b-7e92-4a44-8f14-dc6df69087a2"
      },
      "execution_count": null,
      "outputs": [
        {
          "output_type": "execute_result",
          "data": {
            "text/plain": [
              "int"
            ]
          },
          "metadata": {},
          "execution_count": 22
        }
      ]
    },
    {
      "cell_type": "code",
      "source": [
        "#string to float\n",
        "a = \"2.3\"\n",
        "type(a)"
      ],
      "metadata": {
        "colab": {
          "base_uri": "https://localhost:8080/"
        },
        "id": "r64TidLcIiPp",
        "outputId": "6fdb1307-2538-466a-8be4-4260bd81fa1f"
      },
      "execution_count": null,
      "outputs": [
        {
          "output_type": "execute_result",
          "data": {
            "text/plain": [
              "str"
            ]
          },
          "metadata": {},
          "execution_count": 23
        }
      ]
    },
    {
      "cell_type": "code",
      "source": [
        "bool(0)\n"
      ],
      "metadata": {
        "colab": {
          "base_uri": "https://localhost:8080/"
        },
        "id": "6eqIIRERIqCW",
        "outputId": "9e4b6ee4-3d50-4b46-8d56-4089c535c097"
      },
      "execution_count": null,
      "outputs": [
        {
          "output_type": "execute_result",
          "data": {
            "text/plain": [
              "False"
            ]
          },
          "metadata": {},
          "execution_count": 24
        }
      ]
    },
    {
      "cell_type": "code",
      "source": [
        "bool(1)"
      ],
      "metadata": {
        "colab": {
          "base_uri": "https://localhost:8080/"
        },
        "id": "jITDoMZJI-yL",
        "outputId": "ca350a6e-f00d-4648-c83b-ca932efc36b4"
      },
      "execution_count": null,
      "outputs": [
        {
          "output_type": "execute_result",
          "data": {
            "text/plain": [
              "True"
            ]
          },
          "metadata": {},
          "execution_count": 25
        }
      ]
    },
    {
      "cell_type": "markdown",
      "source": [
        "Q9. Write code to demonstrate type casting with list elements.\n",
        "\n"
      ],
      "metadata": {
        "id": "HEfDGVX_7O46"
      }
    },
    {
      "cell_type": "code",
      "source": [
        "mixed_list=[\"1,2,3,4,5,5.5,true\"]\n",
        "# type casting the elements to string\n",
        "string_list=[str(element)for element in mixed_list]\n",
        "print(\"original list:\",mixed_list)"
      ],
      "metadata": {
        "id": "JCKmWQyKXW4t",
        "colab": {
          "base_uri": "https://localhost:8080/"
        },
        "outputId": "7c2e21c8-fde3-463c-ba4b-4ec68e8c9e75"
      },
      "execution_count": null,
      "outputs": [
        {
          "output_type": "stream",
          "name": "stdout",
          "text": [
            "original list: ['1,2,3,4,5,5.5,true']\n"
          ]
        }
      ]
    },
    {
      "cell_type": "markdown",
      "source": [
        "Q10. Write a program that checks if a number is positive, negative, or zero.\n"
      ],
      "metadata": {
        "id": "CCktAj4mWPfH"
      }
    },
    {
      "cell_type": "code",
      "source": [
        "n=5\n",
        "x=[\"positive\" if n>0 else \"negative\" if n<0 else \"zero\" ]\n",
        "print(x)"
      ],
      "metadata": {
        "colab": {
          "base_uri": "https://localhost:8080/"
        },
        "id": "rla9zTLvB7Pb",
        "outputId": "da747c49-db71-4b80-f916-cc6697b02349"
      },
      "execution_count": null,
      "outputs": [
        {
          "output_type": "stream",
          "name": "stdout",
          "text": [
            "['positive']\n"
          ]
        }
      ]
    },
    {
      "cell_type": "markdown",
      "source": [
        "Q11.  Write a for loop to print numbers from 1 to 10.\n",
        "\n",
        "\n",
        "---\n",
        "\n",
        "\n"
      ],
      "metadata": {
        "id": "5XA1W2KOMXvP"
      }
    },
    {
      "cell_type": "code",
      "source": [
        "## range\n",
        "for i in range(1,10):\n",
        "    print(i)"
      ],
      "metadata": {
        "colab": {
          "base_uri": "https://localhost:8080/"
        },
        "id": "Y5PfuNXgMeeK",
        "outputId": "b76b6afd-2e17-4ed1-c343-8fbac40c26a9"
      },
      "execution_count": null,
      "outputs": [
        {
          "output_type": "stream",
          "name": "stdout",
          "text": [
            "1\n",
            "2\n",
            "3\n",
            "4\n",
            "5\n",
            "6\n",
            "7\n",
            "8\n",
            "9\n"
          ]
        }
      ]
    },
    {
      "cell_type": "markdown",
      "source": [
        "Q12. Write a Python program to find the sum of all even numbers between 1 and 50.\n"
      ],
      "metadata": {
        "id": "viChm5pyMgIT"
      }
    },
    {
      "cell_type": "code",
      "source": [
        "num = int(input('Enter a number: '))\n",
        "sum = 0\n",
        "for i in range(0, num+1):\n",
        "    if i % 2 == 0:\n",
        "        print(i)\n",
        "        sum+=i\n",
        "\n",
        "print(f\"Sum of all the even numbers is {sum}\")\n"
      ],
      "metadata": {
        "colab": {
          "base_uri": "https://localhost:8080/"
        },
        "id": "nPVdo0ejG1T-",
        "outputId": "34b2edb6-245e-456a-82ef-c0dd9052d9d4"
      },
      "execution_count": null,
      "outputs": [
        {
          "output_type": "stream",
          "name": "stdout",
          "text": [
            "Enter a number: 50\n",
            "0\n",
            "2\n",
            "4\n",
            "6\n",
            "8\n",
            "10\n",
            "12\n",
            "14\n",
            "16\n",
            "18\n",
            "20\n",
            "22\n",
            "24\n",
            "26\n",
            "28\n",
            "30\n",
            "32\n",
            "34\n",
            "36\n",
            "38\n",
            "40\n",
            "42\n",
            "44\n",
            "46\n",
            "48\n",
            "50\n",
            "Sum of all the even numbers is 650\n"
          ]
        }
      ]
    },
    {
      "cell_type": "markdown",
      "source": [
        "Q13. Write a program to reverse a string using a while loop.\n"
      ],
      "metadata": {
        "id": "CyGFHDTTMmht"
      }
    },
    {
      "cell_type": "code",
      "source": [
        "def reverseString(s):\n",
        "    res = []\n",
        "\n",
        "    # Traverse on s in backward direction\n",
        "    # and add each character to the list\n",
        "    for i in range(len(s) - 1, -1, -1):\n",
        "        res.append(s[i])\n",
        "\n",
        "    # Convert list back to string\n",
        "    return ''.join(res)\n",
        "\n",
        "if __name__ == \"__main__\":\n",
        "    s = \"abdcfe\"\n",
        "    print(reverseString(s))"
      ],
      "metadata": {
        "id": "9tvpOPthMsAz",
        "colab": {
          "base_uri": "https://localhost:8080/"
        },
        "outputId": "846434f7-4072-431d-ee37-31d2cf5f30c0"
      },
      "execution_count": null,
      "outputs": [
        {
          "output_type": "stream",
          "name": "stdout",
          "text": [
            "efcdba\n"
          ]
        }
      ]
    },
    {
      "cell_type": "markdown",
      "source": [
        "Q14. Write a Python program to calculate the factorial of a number provided by the user using a while loop.\n"
      ],
      "metadata": {
        "id": "o7TpRoFMMsoN"
      }
    },
    {
      "cell_type": "code",
      "source": [
        "# Python program to find the factorial of a number provided by the user.\n",
        "\n",
        "# change the value for a different result\n",
        "num = 7\n",
        "\n",
        "# To take input from the user\n",
        "#num = int(input(\"Enter a number: \"))\n",
        "\n",
        "factorial = 1\n",
        "\n",
        "# check if the number is negative, positive or zero\n",
        "if num < 0:\n",
        "   print(\"Sorry, factorial does not exist for negative numbers\")\n",
        "elif num == 0:\n",
        "   print(\"The factorial of 0 is 1\")\n",
        "else:\n",
        "   for i in range(1,num + 1):\n",
        "       factorial = factorial*i\n",
        "   print(\"The factorial of\",num,\"is\",factorial)"
      ],
      "metadata": {
        "id": "c1IafyIWMxNv",
        "colab": {
          "base_uri": "https://localhost:8080/"
        },
        "outputId": "0f3fbccc-f3c8-45d2-badd-d2a1d8b11755"
      },
      "execution_count": null,
      "outputs": [
        {
          "output_type": "stream",
          "name": "stdout",
          "text": [
            "The factorial of 7 is 5040\n"
          ]
        }
      ]
    }
  ]
}